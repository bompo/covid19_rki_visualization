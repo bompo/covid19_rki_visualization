{
  "nbformat": 4,
  "nbformat_minor": 0,
  "metadata": {
    "kernelspec": {
      "display_name": "Python 3",
      "language": "python",
      "name": "python3"
    },
    "language_info": {
      "codemirror_mode": {
        "name": "ipython",
        "version": 3
      },
      "file_extension": ".py",
      "mimetype": "text/x-python",
      "name": "python",
      "nbconvert_exporter": "python",
      "pygments_lexer": "ipython3",
      "version": "3.7.7"
    },
    "colab": {
      "name": "COVID-19 RKI Analysis.ipynb",
      "provenance": [],
      "toc_visible": true
    }
  },
  "cells": [
    {
      "cell_type": "markdown",
      "metadata": {
        "id": "UOC6-oOVtWdv",
        "colab_type": "text"
      },
      "source": [
        "### Import Libraries and Read Data"
      ]
    },
    {
      "cell_type": "code",
      "metadata": {
        "id": "JUOIkIl7_OdX",
        "colab_type": "code",
        "colab": {}
      },
      "source": [
        "!pip install geopandas -qq\n",
        "!pip install fiona -qq\n",
        "!pip install folium -qq"
      ],
      "execution_count": 0,
      "outputs": []
    },
    {
      "cell_type": "code",
      "metadata": {
        "id": "K4L1MfGmfkrH",
        "colab_type": "code",
        "colab": {}
      },
      "source": [
        "!pip install selenium -qq\n",
        "from selenium import webdriver\n",
        "!wget https://bitbucket.org/ariya/phantomjs/downloads/phantomjs-2.1.1-linux-x86_64.tar.bz2\n",
        "!tar xvjf phantomjs-2.1.1-linux-x86_64.tar.bz2\n",
        "!cp phantomjs-2.1.1-linux-x86_64/bin/phantomjs /usr/local/bin"
      ],
      "execution_count": 0,
      "outputs": []
    },
    {
      "cell_type": "code",
      "metadata": {
        "id": "IUO6CAe-tWdw",
        "colab_type": "code",
        "colab": {}
      },
      "source": [
        "## Import Libraries\n",
        "import numpy as np\n",
        "import pandas as pd\n",
        "import requests\n",
        "import matplotlib.pyplot as plt\n",
        "import geopandas\n",
        "import folium\n",
        "from io import StringIO"
      ],
      "execution_count": 0,
      "outputs": []
    },
    {
      "cell_type": "code",
      "metadata": {
        "id": "sM9C8Lv0tWdz",
        "colab_type": "code",
        "colab": {}
      },
      "source": [
        "%matplotlib inline\n",
        "plt.rcParams['figure.figsize'] = [15, 8]\n",
        "pd.plotting.register_matplotlib_converters()\n",
        "plt.style.use('seaborn-dark')"
      ],
      "execution_count": 0,
      "outputs": []
    },
    {
      "cell_type": "markdown",
      "metadata": {
        "id": "inM_E8mDMybP",
        "colab_type": "text"
      },
      "source": [
        "Fetch latest RKI Data"
      ]
    },
    {
      "cell_type": "code",
      "metadata": {
        "id": "W2JcCPaYtWd2",
        "colab_type": "code",
        "colab": {}
      },
      "source": [
        "download_link = 'https://www.arcgis.com/sharing/rest/content/items/f10774f1c63e40168479a1feb6c7ca74/data'\n",
        "# see https://www.arcgis.com/home/item.html?id=dd4580c810204019a7b8eb3e0b329dd6\n",
        "# new source https://www.arcgis.com/home/item.html?id=f10774f1c63e40168479a1feb6c7ca74"
      ],
      "execution_count": 0,
      "outputs": []
    },
    {
      "cell_type": "code",
      "metadata": {
        "id": "-ES-iLUYtWd4",
        "colab_type": "code",
        "colab": {}
      },
      "source": [
        "req = requests.get(download_link)\n",
        "rki_raw = pd.read_csv(StringIO(req.text))\n",
        "\n",
        "# set index to datetime from 'Meldedatum'\n",
        "rki_raw = rki_raw.set_index('Meldedatum')\n",
        "rki_raw.index = pd.to_datetime(rki_raw.index)"
      ],
      "execution_count": 0,
      "outputs": []
    },
    {
      "cell_type": "markdown",
      "metadata": {
        "id": "8H0ykGVCM8L-",
        "colab_type": "text"
      },
      "source": [
        "Fetch GeoJSON to show 'Landkreise'"
      ]
    },
    {
      "cell_type": "code",
      "metadata": {
        "id": "MnTMUk8BMWWC",
        "colab_type": "code",
        "outputId": "485e2238-0fb4-4958-8158-ff9f9b38c19f",
        "colab": {
          "base_uri": "https://localhost:8080/",
          "height": 235
        }
      },
      "source": [
        "rki_geo_raw = geopandas.read_file('https://opendata.arcgis.com/datasets/917fc37a709542548cc3be077a786c17_0.geojson')\n",
        "rki_geo = geopandas.read_file('https://opendata.arcgis.com/datasets/917fc37a709542548cc3be077a786c17_0.geojson')\n",
        "\n",
        "rki_geo = rki_geo[['RS', 'geometry', 'EWZ']]\n",
        "\n",
        "# add leading zero to RS to match 'IdLandkreis' from rki dataset\n",
        "rki_geo['RS'] = rki_geo['RS'].astype(str).str.zfill(5)\n",
        "rki_geo = rki_geo.set_index('RS')\n",
        "\n",
        "rki_geo['geometry'] = rki_geo['geometry'].apply(lambda x: x.wkt).values\n",
        "\n",
        "rki_geo.head()"
      ],
      "execution_count": 7,
      "outputs": [
        {
          "output_type": "execute_result",
          "data": {
            "text/html": [
              "<div>\n",
              "<style scoped>\n",
              "    .dataframe tbody tr th:only-of-type {\n",
              "        vertical-align: middle;\n",
              "    }\n",
              "\n",
              "    .dataframe tbody tr th {\n",
              "        vertical-align: top;\n",
              "    }\n",
              "\n",
              "    .dataframe thead th {\n",
              "        text-align: right;\n",
              "    }\n",
              "</style>\n",
              "<table border=\"1\" class=\"dataframe\">\n",
              "  <thead>\n",
              "    <tr style=\"text-align: right;\">\n",
              "      <th></th>\n",
              "      <th>geometry</th>\n",
              "      <th>EWZ</th>\n",
              "    </tr>\n",
              "    <tr>\n",
              "      <th>RS</th>\n",
              "      <th></th>\n",
              "      <th></th>\n",
              "    </tr>\n",
              "  </thead>\n",
              "  <tbody>\n",
              "    <tr>\n",
              "      <th>01001</th>\n",
              "      <td>POLYGON ((9.412664107904019 54.8226409068342, ...</td>\n",
              "      <td>89504</td>\n",
              "    </tr>\n",
              "    <tr>\n",
              "      <th>01002</th>\n",
              "      <td>POLYGON ((10.1691581863434 54.4313767074573, 1...</td>\n",
              "      <td>247548</td>\n",
              "    </tr>\n",
              "    <tr>\n",
              "      <th>01003</th>\n",
              "      <td>POLYGON ((10.8768349996186 53.9873651853629, 1...</td>\n",
              "      <td>217198</td>\n",
              "    </tr>\n",
              "    <tr>\n",
              "      <th>01004</th>\n",
              "      <td>POLYGON ((9.99544612152712 54.1497192603092, 9...</td>\n",
              "      <td>79487</td>\n",
              "    </tr>\n",
              "    <tr>\n",
              "      <th>01051</th>\n",
              "      <td>MULTIPOLYGON (((8.69257691626515 54.0604453946...</td>\n",
              "      <td>133210</td>\n",
              "    </tr>\n",
              "  </tbody>\n",
              "</table>\n",
              "</div>"
            ],
            "text/plain": [
              "                                                geometry     EWZ\n",
              "RS                                                              \n",
              "01001  POLYGON ((9.412664107904019 54.8226409068342, ...   89504\n",
              "01002  POLYGON ((10.1691581863434 54.4313767074573, 1...  247548\n",
              "01003  POLYGON ((10.8768349996186 53.9873651853629, 1...  217198\n",
              "01004  POLYGON ((9.99544612152712 54.1497192603092, 9...   79487\n",
              "01051  MULTIPOLYGON (((8.69257691626515 54.0604453946...  133210"
            ]
          },
          "metadata": {
            "tags": []
          },
          "execution_count": 7
        }
      ]
    },
    {
      "cell_type": "code",
      "metadata": {
        "id": "CBGc3pS6tWd7",
        "colab_type": "code",
        "outputId": "49434eb6-d92c-4d75-b883-83ba73459551",
        "colab": {
          "base_uri": "https://localhost:8080/",
          "height": 340
        }
      },
      "source": [
        "rki_raw.tail()"
      ],
      "execution_count": 8,
      "outputs": [
        {
          "output_type": "execute_result",
          "data": {
            "text/html": [
              "<div>\n",
              "<style scoped>\n",
              "    .dataframe tbody tr th:only-of-type {\n",
              "        vertical-align: middle;\n",
              "    }\n",
              "\n",
              "    .dataframe tbody tr th {\n",
              "        vertical-align: top;\n",
              "    }\n",
              "\n",
              "    .dataframe thead th {\n",
              "        text-align: right;\n",
              "    }\n",
              "</style>\n",
              "<table border=\"1\" class=\"dataframe\">\n",
              "  <thead>\n",
              "    <tr style=\"text-align: right;\">\n",
              "      <th></th>\n",
              "      <th>IdBundesland</th>\n",
              "      <th>Bundesland</th>\n",
              "      <th>Landkreis</th>\n",
              "      <th>Altersgruppe</th>\n",
              "      <th>Geschlecht</th>\n",
              "      <th>AnzahlFall</th>\n",
              "      <th>AnzahlTodesfall</th>\n",
              "      <th>ObjectId</th>\n",
              "      <th>IdLandkreis</th>\n",
              "      <th>Datenstand</th>\n",
              "      <th>NeuerFall</th>\n",
              "      <th>NeuerTodesfall</th>\n",
              "      <th>Refdatum</th>\n",
              "      <th>NeuGenesen</th>\n",
              "      <th>AnzahlGenesen</th>\n",
              "    </tr>\n",
              "    <tr>\n",
              "      <th>Meldedatum</th>\n",
              "      <th></th>\n",
              "      <th></th>\n",
              "      <th></th>\n",
              "      <th></th>\n",
              "      <th></th>\n",
              "      <th></th>\n",
              "      <th></th>\n",
              "      <th></th>\n",
              "      <th></th>\n",
              "      <th></th>\n",
              "      <th></th>\n",
              "      <th></th>\n",
              "      <th></th>\n",
              "      <th></th>\n",
              "      <th></th>\n",
              "    </tr>\n",
              "  </thead>\n",
              "  <tbody>\n",
              "    <tr>\n",
              "      <th>2020-03-29 00:00:00+00:00</th>\n",
              "      <td>16</td>\n",
              "      <td>Thüringen</td>\n",
              "      <td>LK Greiz</td>\n",
              "      <td>A35-A59</td>\n",
              "      <td>W</td>\n",
              "      <td>2</td>\n",
              "      <td>0</td>\n",
              "      <td>3883969</td>\n",
              "      <td>16076</td>\n",
              "      <td>26.04.2020, 00:00 Uhr</td>\n",
              "      <td>0</td>\n",
              "      <td>-9</td>\n",
              "      <td>2020-03-25T00:00:00.000Z</td>\n",
              "      <td>0</td>\n",
              "      <td>2</td>\n",
              "    </tr>\n",
              "    <tr>\n",
              "      <th>2020-03-31 00:00:00+00:00</th>\n",
              "      <td>16</td>\n",
              "      <td>Thüringen</td>\n",
              "      <td>LK Greiz</td>\n",
              "      <td>A35-A59</td>\n",
              "      <td>W</td>\n",
              "      <td>1</td>\n",
              "      <td>0</td>\n",
              "      <td>3883970</td>\n",
              "      <td>16076</td>\n",
              "      <td>26.04.2020, 00:00 Uhr</td>\n",
              "      <td>0</td>\n",
              "      <td>-9</td>\n",
              "      <td>2020-03-24T00:00:00.000Z</td>\n",
              "      <td>0</td>\n",
              "      <td>1</td>\n",
              "    </tr>\n",
              "    <tr>\n",
              "      <th>2020-03-31 00:00:00+00:00</th>\n",
              "      <td>16</td>\n",
              "      <td>Thüringen</td>\n",
              "      <td>LK Greiz</td>\n",
              "      <td>A35-A59</td>\n",
              "      <td>W</td>\n",
              "      <td>1</td>\n",
              "      <td>0</td>\n",
              "      <td>3883971</td>\n",
              "      <td>16076</td>\n",
              "      <td>26.04.2020, 00:00 Uhr</td>\n",
              "      <td>0</td>\n",
              "      <td>-9</td>\n",
              "      <td>2020-03-27T00:00:00.000Z</td>\n",
              "      <td>0</td>\n",
              "      <td>1</td>\n",
              "    </tr>\n",
              "    <tr>\n",
              "      <th>2020-03-31 00:00:00+00:00</th>\n",
              "      <td>16</td>\n",
              "      <td>Thüringen</td>\n",
              "      <td>LK Greiz</td>\n",
              "      <td>A35-A59</td>\n",
              "      <td>W</td>\n",
              "      <td>1</td>\n",
              "      <td>0</td>\n",
              "      <td>3883972</td>\n",
              "      <td>16076</td>\n",
              "      <td>26.04.2020, 00:00 Uhr</td>\n",
              "      <td>0</td>\n",
              "      <td>-9</td>\n",
              "      <td>2020-03-28T00:00:00.000Z</td>\n",
              "      <td>0</td>\n",
              "      <td>1</td>\n",
              "    </tr>\n",
              "    <tr>\n",
              "      <th>2020-04-01 00:00:00+00:00</th>\n",
              "      <td>16</td>\n",
              "      <td>Thüringen</td>\n",
              "      <td>LK Greiz</td>\n",
              "      <td>A35-A59</td>\n",
              "      <td>W</td>\n",
              "      <td>1</td>\n",
              "      <td>0</td>\n",
              "      <td>3883973</td>\n",
              "      <td>16076</td>\n",
              "      <td>26.04.2020, 00:00 Uhr</td>\n",
              "      <td>0</td>\n",
              "      <td>-9</td>\n",
              "      <td>2020-03-26T00:00:00.000Z</td>\n",
              "      <td>0</td>\n",
              "      <td>1</td>\n",
              "    </tr>\n",
              "  </tbody>\n",
              "</table>\n",
              "</div>"
            ],
            "text/plain": [
              "                           IdBundesland Bundesland  ... NeuGenesen AnzahlGenesen\n",
              "Meldedatum                                          ...                         \n",
              "2020-03-29 00:00:00+00:00            16  Thüringen  ...          0             2\n",
              "2020-03-31 00:00:00+00:00            16  Thüringen  ...          0             1\n",
              "2020-03-31 00:00:00+00:00            16  Thüringen  ...          0             1\n",
              "2020-03-31 00:00:00+00:00            16  Thüringen  ...          0             1\n",
              "2020-04-01 00:00:00+00:00            16  Thüringen  ...          0             1\n",
              "\n",
              "[5 rows x 15 columns]"
            ]
          },
          "metadata": {
            "tags": []
          },
          "execution_count": 8
        }
      ]
    },
    {
      "cell_type": "code",
      "metadata": {
        "id": "DAHMXdJQtWd-",
        "colab_type": "code",
        "colab": {}
      },
      "source": [
        "def new_cases_by_date(rki_raw, rki_flag_column='Neuer Fall', rki_count_columns='AnzahlFall'):\n",
        "    \"\"\"\n",
        "    rki_raw: raw DataFrame from Robert Koch Institute\n",
        "    \"\"\"\n",
        "    condition = rki_raw[rki_flag_column].isin((0, 1))\n",
        "    rki_series = rki_raw[condition].groupby(['IdLandkreis'])[rki_count_columns].sum().to_frame(name = rki_count_columns).reset_index()\n",
        "    \n",
        "    rki_series = rki_series[['IdLandkreis', 'AnzahlFall']]\n",
        "\n",
        "    #join geodata\n",
        "    rki_series['IdLandkreis'] = rki_series['IdLandkreis'].astype(str).str.zfill(5)\n",
        "    rki_series = rki_series.set_index('IdLandkreis')\n",
        "    rki_series = rki_series.join(rki_geo)\n",
        "\n",
        "    return rki_series"
      ],
      "execution_count": 0,
      "outputs": []
    },
    {
      "cell_type": "markdown",
      "metadata": {
        "id": "kwBQDazrNWgB",
        "colab_type": "text"
      },
      "source": [
        "Generate Dataset with cases from last 7 days by 100k for each period since 2020-03-01"
      ]
    },
    {
      "cell_type": "code",
      "metadata": {
        "id": "ZwyicsMLtWeB",
        "colab_type": "code",
        "colab": {
          "base_uri": "https://localhost:8080/",
          "height": 235
        },
        "outputId": "b305068c-366f-4b5a-9961-f7e1248e1ab3"
      },
      "source": [
        "start_date = pd.to_datetime('2020-03-01')\n",
        "end_date = rki_raw.index.max().tz_convert(None)\n",
        "\n",
        "frames = []\n",
        "\n",
        "for j in pd.date_range(start_date, end_date - pd.to_timedelta(6,'d')):\n",
        "    \n",
        "    startrange = j.strftime('%Y-%m-%d')\n",
        "    endrange = (j + pd.to_timedelta(6,'d')).strftime('%Y-%m-%d')\n",
        "    rki_cases = new_cases_by_date(rki_raw[startrange:endrange], rki_flag_column='NeuerFall', rki_count_columns='AnzahlFall')\n",
        "    rki_cases['date'] = (j + pd.to_timedelta(6,'d'))\n",
        "    rki_cases['RS'] = rki_cases.index\n",
        "    rki_cases['cases_per_100k'] = rki_cases['AnzahlFall'] / rki_cases['EWZ'] * 100000\n",
        "\n",
        "    rki_cases = rki_cases.set_index('date')\n",
        "    frames.append(rki_cases)\n",
        "\n",
        "#rki_death = new_cases_by_date(rki_raw, rki_flag_column='NeuerTodesfall', rki_count_columns='AnzahlTodesfall')\n",
        "#rki_recovered = new_cases_by_date(rki_raw, rki_flag_column='NeuGenesen', rki_count_columns='AnzahlGenesen')\n",
        "\n",
        "result = pd.concat(frames)\n"
      ],
      "execution_count": 10,
      "outputs": [
        {
          "output_type": "execute_result",
          "data": {
            "text/html": [
              "<div>\n",
              "<style scoped>\n",
              "    .dataframe tbody tr th:only-of-type {\n",
              "        vertical-align: middle;\n",
              "    }\n",
              "\n",
              "    .dataframe tbody tr th {\n",
              "        vertical-align: top;\n",
              "    }\n",
              "\n",
              "    .dataframe thead th {\n",
              "        text-align: right;\n",
              "    }\n",
              "</style>\n",
              "<table border=\"1\" class=\"dataframe\">\n",
              "  <thead>\n",
              "    <tr style=\"text-align: right;\">\n",
              "      <th></th>\n",
              "      <th>AnzahlFall</th>\n",
              "      <th>geometry</th>\n",
              "      <th>EWZ</th>\n",
              "      <th>RS</th>\n",
              "      <th>cases_per_100k</th>\n",
              "    </tr>\n",
              "    <tr>\n",
              "      <th>date</th>\n",
              "      <th></th>\n",
              "      <th></th>\n",
              "      <th></th>\n",
              "      <th></th>\n",
              "      <th></th>\n",
              "    </tr>\n",
              "  </thead>\n",
              "  <tbody>\n",
              "    <tr>\n",
              "      <th>2020-04-25</th>\n",
              "      <td>3</td>\n",
              "      <td>POLYGON ((11.2629847411749 50.8332784741453, 1...</td>\n",
              "      <td>106356</td>\n",
              "      <td>16073</td>\n",
              "      <td>2.820715</td>\n",
              "    </tr>\n",
              "    <tr>\n",
              "      <th>2020-04-25</th>\n",
              "      <td>5</td>\n",
              "      <td>POLYGON ((11.6979790584767 51.0835208927217, 1...</td>\n",
              "      <td>83051</td>\n",
              "      <td>16074</td>\n",
              "      <td>6.020397</td>\n",
              "    </tr>\n",
              "    <tr>\n",
              "      <th>2020-04-25</th>\n",
              "      <td>11</td>\n",
              "      <td>POLYGON ((11.8298950832029 50.7892225977439, 1...</td>\n",
              "      <td>80868</td>\n",
              "      <td>16075</td>\n",
              "      <td>13.602414</td>\n",
              "    </tr>\n",
              "    <tr>\n",
              "      <th>2020-04-25</th>\n",
              "      <td>87</td>\n",
              "      <td>POLYGON ((12.1916662745102 50.9635817588172, 1...</td>\n",
              "      <td>98159</td>\n",
              "      <td>16076</td>\n",
              "      <td>88.631710</td>\n",
              "    </tr>\n",
              "    <tr>\n",
              "      <th>2020-04-25</th>\n",
              "      <td>6</td>\n",
              "      <td>POLYGON ((12.3492688881673 51.0966461467599, 1...</td>\n",
              "      <td>90118</td>\n",
              "      <td>16077</td>\n",
              "      <td>6.657937</td>\n",
              "    </tr>\n",
              "  </tbody>\n",
              "</table>\n",
              "</div>"
            ],
            "text/plain": [
              "            AnzahlFall  ... cases_per_100k\n",
              "date                    ...               \n",
              "2020-04-25           3  ...       2.820715\n",
              "2020-04-25           5  ...       6.020397\n",
              "2020-04-25          11  ...      13.602414\n",
              "2020-04-25          87  ...      88.631710\n",
              "2020-04-25           6  ...       6.657937\n",
              "\n",
              "[5 rows x 5 columns]"
            ]
          },
          "metadata": {
            "tags": []
          },
          "execution_count": 10
        }
      ]
    },
    {
      "cell_type": "code",
      "metadata": {
        "id": "vrqnr365GeGV",
        "colab_type": "code",
        "colab": {
          "base_uri": "https://localhost:8080/",
          "height": 34
        },
        "outputId": "a5f2050f-afe2-4fd1-ae8c-1c6e6054c7b3"
      },
      "source": [
        "# max value to adjust bin\n",
        "result['cases_per_100k'].max()"
      ],
      "execution_count": 52,
      "outputs": [
        {
          "output_type": "execute_result",
          "data": {
            "text/plain": [
              "571.0029791459782"
            ]
          },
          "metadata": {
            "tags": []
          },
          "execution_count": 52
        }
      ]
    },
    {
      "cell_type": "code",
      "metadata": {
        "id": "Snl7KurVwF8b",
        "colab_type": "code",
        "colab": {}
      },
      "source": [
        "#delete generated data\n",
        "!rm *.png\n",
        "!rm last_7_days_maps.zip"
      ],
      "execution_count": 0,
      "outputs": []
    },
    {
      "cell_type": "markdown",
      "metadata": {
        "id": "ja1aFgQxOG59",
        "colab_type": "text"
      },
      "source": [
        "Generate maps for each period"
      ]
    },
    {
      "cell_type": "code",
      "metadata": {
        "id": "lC31v482Lw1O",
        "colab_type": "code",
        "outputId": "dc062298-13ec-4cc3-d4d6-1ca5330a5b8f",
        "colab": {
          "base_uri": "https://localhost:8080/",
          "height": 1000
        }
      },
      "source": [
        "import folium\n",
        "import branca\n",
        "import selenium\n",
        "\n",
        "for j in pd.date_range(start_date, end_date - pd.to_timedelta(6,'d')):\n",
        "\n",
        "  #bins = list(result['cases_per_100k'].quantile([0, 0.25, 0.5, 0.75, 1]))\n",
        "  bins = [0, 5, 25, 50, 100, 600]\n",
        "\n",
        "  map_osm = folium.Map(attr='Robert Koch-Institut (RKI), dl-de/by-2-0', location=[51.3, 10.5], tiles='cartodbpositron', zoom_start=7)\n",
        "\n",
        "  folium.Choropleth(\n",
        "      geo_data=rki_geo_raw,\n",
        "      data=result[(j + pd.to_timedelta(6,'d')):(j + pd.to_timedelta(6,'d'))],\n",
        "      columns=['RS', 'cases_per_100k'],\n",
        "      key_on='feature.properties.RS',\n",
        "      fill_color='YlOrRd',\n",
        "      fill_opacity=0.6,\n",
        "      line_opacity=0.0,\n",
        "      nan_fill_color='#f5f5f3',\n",
        "      legend_name='cases per 100k (last 7 days)',\n",
        "      bins=[float(x) for x in bins],\n",
        "      smooth_factor = 0.1\n",
        "  ).add_to(map_osm)\n",
        "\n",
        "  legend_html = '<div style=\"position: fixed; bottom: 75px; left: 50%; margin-left: -350px; width: 700px; height: 20px; z-index:9999; font-size:42px;\">&nbsp; ' + j.strftime('%Y-%m-%d') + ' - ' + (j + pd.to_timedelta(6,'d')).strftime('%Y-%m-%d') + '<br></div>'\n",
        "  map_osm.get_root().html.add_child(folium.Element(legend_html))\n",
        "\n",
        "  map_osm.save('map.html')\n",
        "\n",
        "  # save map as png with headless browser\n",
        "  driver = selenium.webdriver.PhantomJS()\n",
        "  driver.set_window_size(1000, 1400)  # choose a resolution\n",
        "  driver.get('map.html')\n",
        "\n",
        "  driver.save_screenshot((j + pd.to_timedelta(6,'d')).strftime('%Y-%m-%d') + \".png\")"
      ],
      "execution_count": 53,
      "outputs": [
        {
          "output_type": "stream",
          "text": [
            "/usr/local/lib/python3.6/dist-packages/selenium/webdriver/phantomjs/webdriver.py:49: UserWarning: Selenium support for PhantomJS has been deprecated, please use headless versions of Chrome or Firefox instead\n",
            "  warnings.warn('Selenium support for PhantomJS has been deprecated, please use headless '\n",
            "/usr/local/lib/python3.6/dist-packages/selenium/webdriver/phantomjs/webdriver.py:49: UserWarning: Selenium support for PhantomJS has been deprecated, please use headless versions of Chrome or Firefox instead\n",
            "  warnings.warn('Selenium support for PhantomJS has been deprecated, please use headless '\n",
            "/usr/local/lib/python3.6/dist-packages/selenium/webdriver/phantomjs/webdriver.py:49: UserWarning: Selenium support for PhantomJS has been deprecated, please use headless versions of Chrome or Firefox instead\n",
            "  warnings.warn('Selenium support for PhantomJS has been deprecated, please use headless '\n",
            "/usr/local/lib/python3.6/dist-packages/selenium/webdriver/phantomjs/webdriver.py:49: UserWarning: Selenium support for PhantomJS has been deprecated, please use headless versions of Chrome or Firefox instead\n",
            "  warnings.warn('Selenium support for PhantomJS has been deprecated, please use headless '\n",
            "/usr/local/lib/python3.6/dist-packages/selenium/webdriver/phantomjs/webdriver.py:49: UserWarning: Selenium support for PhantomJS has been deprecated, please use headless versions of Chrome or Firefox instead\n",
            "  warnings.warn('Selenium support for PhantomJS has been deprecated, please use headless '\n",
            "/usr/local/lib/python3.6/dist-packages/selenium/webdriver/phantomjs/webdriver.py:49: UserWarning: Selenium support for PhantomJS has been deprecated, please use headless versions of Chrome or Firefox instead\n",
            "  warnings.warn('Selenium support for PhantomJS has been deprecated, please use headless '\n",
            "/usr/local/lib/python3.6/dist-packages/selenium/webdriver/phantomjs/webdriver.py:49: UserWarning: Selenium support for PhantomJS has been deprecated, please use headless versions of Chrome or Firefox instead\n",
            "  warnings.warn('Selenium support for PhantomJS has been deprecated, please use headless '\n",
            "/usr/local/lib/python3.6/dist-packages/selenium/webdriver/phantomjs/webdriver.py:49: UserWarning: Selenium support for PhantomJS has been deprecated, please use headless versions of Chrome or Firefox instead\n",
            "  warnings.warn('Selenium support for PhantomJS has been deprecated, please use headless '\n",
            "/usr/local/lib/python3.6/dist-packages/selenium/webdriver/phantomjs/webdriver.py:49: UserWarning: Selenium support for PhantomJS has been deprecated, please use headless versions of Chrome or Firefox instead\n",
            "  warnings.warn('Selenium support for PhantomJS has been deprecated, please use headless '\n",
            "/usr/local/lib/python3.6/dist-packages/selenium/webdriver/phantomjs/webdriver.py:49: UserWarning: Selenium support for PhantomJS has been deprecated, please use headless versions of Chrome or Firefox instead\n",
            "  warnings.warn('Selenium support for PhantomJS has been deprecated, please use headless '\n",
            "/usr/local/lib/python3.6/dist-packages/selenium/webdriver/phantomjs/webdriver.py:49: UserWarning: Selenium support for PhantomJS has been deprecated, please use headless versions of Chrome or Firefox instead\n",
            "  warnings.warn('Selenium support for PhantomJS has been deprecated, please use headless '\n",
            "/usr/local/lib/python3.6/dist-packages/selenium/webdriver/phantomjs/webdriver.py:49: UserWarning: Selenium support for PhantomJS has been deprecated, please use headless versions of Chrome or Firefox instead\n",
            "  warnings.warn('Selenium support for PhantomJS has been deprecated, please use headless '\n",
            "/usr/local/lib/python3.6/dist-packages/selenium/webdriver/phantomjs/webdriver.py:49: UserWarning: Selenium support for PhantomJS has been deprecated, please use headless versions of Chrome or Firefox instead\n",
            "  warnings.warn('Selenium support for PhantomJS has been deprecated, please use headless '\n",
            "/usr/local/lib/python3.6/dist-packages/selenium/webdriver/phantomjs/webdriver.py:49: UserWarning: Selenium support for PhantomJS has been deprecated, please use headless versions of Chrome or Firefox instead\n",
            "  warnings.warn('Selenium support for PhantomJS has been deprecated, please use headless '\n",
            "/usr/local/lib/python3.6/dist-packages/selenium/webdriver/phantomjs/webdriver.py:49: UserWarning: Selenium support for PhantomJS has been deprecated, please use headless versions of Chrome or Firefox instead\n",
            "  warnings.warn('Selenium support for PhantomJS has been deprecated, please use headless '\n",
            "/usr/local/lib/python3.6/dist-packages/selenium/webdriver/phantomjs/webdriver.py:49: UserWarning: Selenium support for PhantomJS has been deprecated, please use headless versions of Chrome or Firefox instead\n",
            "  warnings.warn('Selenium support for PhantomJS has been deprecated, please use headless '\n",
            "/usr/local/lib/python3.6/dist-packages/selenium/webdriver/phantomjs/webdriver.py:49: UserWarning: Selenium support for PhantomJS has been deprecated, please use headless versions of Chrome or Firefox instead\n",
            "  warnings.warn('Selenium support for PhantomJS has been deprecated, please use headless '\n",
            "/usr/local/lib/python3.6/dist-packages/selenium/webdriver/phantomjs/webdriver.py:49: UserWarning: Selenium support for PhantomJS has been deprecated, please use headless versions of Chrome or Firefox instead\n",
            "  warnings.warn('Selenium support for PhantomJS has been deprecated, please use headless '\n",
            "/usr/local/lib/python3.6/dist-packages/selenium/webdriver/phantomjs/webdriver.py:49: UserWarning: Selenium support for PhantomJS has been deprecated, please use headless versions of Chrome or Firefox instead\n",
            "  warnings.warn('Selenium support for PhantomJS has been deprecated, please use headless '\n",
            "/usr/local/lib/python3.6/dist-packages/selenium/webdriver/phantomjs/webdriver.py:49: UserWarning: Selenium support for PhantomJS has been deprecated, please use headless versions of Chrome or Firefox instead\n",
            "  warnings.warn('Selenium support for PhantomJS has been deprecated, please use headless '\n",
            "/usr/local/lib/python3.6/dist-packages/selenium/webdriver/phantomjs/webdriver.py:49: UserWarning: Selenium support for PhantomJS has been deprecated, please use headless versions of Chrome or Firefox instead\n",
            "  warnings.warn('Selenium support for PhantomJS has been deprecated, please use headless '\n",
            "/usr/local/lib/python3.6/dist-packages/selenium/webdriver/phantomjs/webdriver.py:49: UserWarning: Selenium support for PhantomJS has been deprecated, please use headless versions of Chrome or Firefox instead\n",
            "  warnings.warn('Selenium support for PhantomJS has been deprecated, please use headless '\n",
            "/usr/local/lib/python3.6/dist-packages/selenium/webdriver/phantomjs/webdriver.py:49: UserWarning: Selenium support for PhantomJS has been deprecated, please use headless versions of Chrome or Firefox instead\n",
            "  warnings.warn('Selenium support for PhantomJS has been deprecated, please use headless '\n",
            "/usr/local/lib/python3.6/dist-packages/selenium/webdriver/phantomjs/webdriver.py:49: UserWarning: Selenium support for PhantomJS has been deprecated, please use headless versions of Chrome or Firefox instead\n",
            "  warnings.warn('Selenium support for PhantomJS has been deprecated, please use headless '\n",
            "/usr/local/lib/python3.6/dist-packages/selenium/webdriver/phantomjs/webdriver.py:49: UserWarning: Selenium support for PhantomJS has been deprecated, please use headless versions of Chrome or Firefox instead\n",
            "  warnings.warn('Selenium support for PhantomJS has been deprecated, please use headless '\n",
            "/usr/local/lib/python3.6/dist-packages/selenium/webdriver/phantomjs/webdriver.py:49: UserWarning: Selenium support for PhantomJS has been deprecated, please use headless versions of Chrome or Firefox instead\n",
            "  warnings.warn('Selenium support for PhantomJS has been deprecated, please use headless '\n",
            "/usr/local/lib/python3.6/dist-packages/selenium/webdriver/phantomjs/webdriver.py:49: UserWarning: Selenium support for PhantomJS has been deprecated, please use headless versions of Chrome or Firefox instead\n",
            "  warnings.warn('Selenium support for PhantomJS has been deprecated, please use headless '\n",
            "/usr/local/lib/python3.6/dist-packages/selenium/webdriver/phantomjs/webdriver.py:49: UserWarning: Selenium support for PhantomJS has been deprecated, please use headless versions of Chrome or Firefox instead\n",
            "  warnings.warn('Selenium support for PhantomJS has been deprecated, please use headless '\n",
            "/usr/local/lib/python3.6/dist-packages/selenium/webdriver/phantomjs/webdriver.py:49: UserWarning: Selenium support for PhantomJS has been deprecated, please use headless versions of Chrome or Firefox instead\n",
            "  warnings.warn('Selenium support for PhantomJS has been deprecated, please use headless '\n",
            "/usr/local/lib/python3.6/dist-packages/selenium/webdriver/phantomjs/webdriver.py:49: UserWarning: Selenium support for PhantomJS has been deprecated, please use headless versions of Chrome or Firefox instead\n",
            "  warnings.warn('Selenium support for PhantomJS has been deprecated, please use headless '\n",
            "/usr/local/lib/python3.6/dist-packages/selenium/webdriver/phantomjs/webdriver.py:49: UserWarning: Selenium support for PhantomJS has been deprecated, please use headless versions of Chrome or Firefox instead\n",
            "  warnings.warn('Selenium support for PhantomJS has been deprecated, please use headless '\n",
            "/usr/local/lib/python3.6/dist-packages/selenium/webdriver/phantomjs/webdriver.py:49: UserWarning: Selenium support for PhantomJS has been deprecated, please use headless versions of Chrome or Firefox instead\n",
            "  warnings.warn('Selenium support for PhantomJS has been deprecated, please use headless '\n",
            "/usr/local/lib/python3.6/dist-packages/selenium/webdriver/phantomjs/webdriver.py:49: UserWarning: Selenium support for PhantomJS has been deprecated, please use headless versions of Chrome or Firefox instead\n",
            "  warnings.warn('Selenium support for PhantomJS has been deprecated, please use headless '\n",
            "/usr/local/lib/python3.6/dist-packages/selenium/webdriver/phantomjs/webdriver.py:49: UserWarning: Selenium support for PhantomJS has been deprecated, please use headless versions of Chrome or Firefox instead\n",
            "  warnings.warn('Selenium support for PhantomJS has been deprecated, please use headless '\n",
            "/usr/local/lib/python3.6/dist-packages/selenium/webdriver/phantomjs/webdriver.py:49: UserWarning: Selenium support for PhantomJS has been deprecated, please use headless versions of Chrome or Firefox instead\n",
            "  warnings.warn('Selenium support for PhantomJS has been deprecated, please use headless '\n",
            "/usr/local/lib/python3.6/dist-packages/selenium/webdriver/phantomjs/webdriver.py:49: UserWarning: Selenium support for PhantomJS has been deprecated, please use headless versions of Chrome or Firefox instead\n",
            "  warnings.warn('Selenium support for PhantomJS has been deprecated, please use headless '\n",
            "/usr/local/lib/python3.6/dist-packages/selenium/webdriver/phantomjs/webdriver.py:49: UserWarning: Selenium support for PhantomJS has been deprecated, please use headless versions of Chrome or Firefox instead\n",
            "  warnings.warn('Selenium support for PhantomJS has been deprecated, please use headless '\n",
            "/usr/local/lib/python3.6/dist-packages/selenium/webdriver/phantomjs/webdriver.py:49: UserWarning: Selenium support for PhantomJS has been deprecated, please use headless versions of Chrome or Firefox instead\n",
            "  warnings.warn('Selenium support for PhantomJS has been deprecated, please use headless '\n",
            "/usr/local/lib/python3.6/dist-packages/selenium/webdriver/phantomjs/webdriver.py:49: UserWarning: Selenium support for PhantomJS has been deprecated, please use headless versions of Chrome or Firefox instead\n",
            "  warnings.warn('Selenium support for PhantomJS has been deprecated, please use headless '\n",
            "/usr/local/lib/python3.6/dist-packages/selenium/webdriver/phantomjs/webdriver.py:49: UserWarning: Selenium support for PhantomJS has been deprecated, please use headless versions of Chrome or Firefox instead\n",
            "  warnings.warn('Selenium support for PhantomJS has been deprecated, please use headless '\n",
            "/usr/local/lib/python3.6/dist-packages/selenium/webdriver/phantomjs/webdriver.py:49: UserWarning: Selenium support for PhantomJS has been deprecated, please use headless versions of Chrome or Firefox instead\n",
            "  warnings.warn('Selenium support for PhantomJS has been deprecated, please use headless '\n",
            "/usr/local/lib/python3.6/dist-packages/selenium/webdriver/phantomjs/webdriver.py:49: UserWarning: Selenium support for PhantomJS has been deprecated, please use headless versions of Chrome or Firefox instead\n",
            "  warnings.warn('Selenium support for PhantomJS has been deprecated, please use headless '\n",
            "/usr/local/lib/python3.6/dist-packages/selenium/webdriver/phantomjs/webdriver.py:49: UserWarning: Selenium support for PhantomJS has been deprecated, please use headless versions of Chrome or Firefox instead\n",
            "  warnings.warn('Selenium support for PhantomJS has been deprecated, please use headless '\n",
            "/usr/local/lib/python3.6/dist-packages/selenium/webdriver/phantomjs/webdriver.py:49: UserWarning: Selenium support for PhantomJS has been deprecated, please use headless versions of Chrome or Firefox instead\n",
            "  warnings.warn('Selenium support for PhantomJS has been deprecated, please use headless '\n",
            "/usr/local/lib/python3.6/dist-packages/selenium/webdriver/phantomjs/webdriver.py:49: UserWarning: Selenium support for PhantomJS has been deprecated, please use headless versions of Chrome or Firefox instead\n",
            "  warnings.warn('Selenium support for PhantomJS has been deprecated, please use headless '\n",
            "/usr/local/lib/python3.6/dist-packages/selenium/webdriver/phantomjs/webdriver.py:49: UserWarning: Selenium support for PhantomJS has been deprecated, please use headless versions of Chrome or Firefox instead\n",
            "  warnings.warn('Selenium support for PhantomJS has been deprecated, please use headless '\n",
            "/usr/local/lib/python3.6/dist-packages/selenium/webdriver/phantomjs/webdriver.py:49: UserWarning: Selenium support for PhantomJS has been deprecated, please use headless versions of Chrome or Firefox instead\n",
            "  warnings.warn('Selenium support for PhantomJS has been deprecated, please use headless '\n",
            "/usr/local/lib/python3.6/dist-packages/selenium/webdriver/phantomjs/webdriver.py:49: UserWarning: Selenium support for PhantomJS has been deprecated, please use headless versions of Chrome or Firefox instead\n",
            "  warnings.warn('Selenium support for PhantomJS has been deprecated, please use headless '\n",
            "/usr/local/lib/python3.6/dist-packages/selenium/webdriver/phantomjs/webdriver.py:49: UserWarning: Selenium support for PhantomJS has been deprecated, please use headless versions of Chrome or Firefox instead\n",
            "  warnings.warn('Selenium support for PhantomJS has been deprecated, please use headless '\n",
            "/usr/local/lib/python3.6/dist-packages/selenium/webdriver/phantomjs/webdriver.py:49: UserWarning: Selenium support for PhantomJS has been deprecated, please use headless versions of Chrome or Firefox instead\n",
            "  warnings.warn('Selenium support for PhantomJS has been deprecated, please use headless '\n"
          ],
          "name": "stderr"
        }
      ]
    },
    {
      "cell_type": "code",
      "metadata": {
        "id": "U4ybfaB3lp-n",
        "colab_type": "code",
        "colab": {
          "base_uri": "https://localhost:8080/",
          "height": 867
        },
        "outputId": "a518b34b-cc0a-43a7-be1b-1045f4cb712a"
      },
      "source": [
        "!zip last_7_days_maps.zip *.png"
      ],
      "execution_count": 54,
      "outputs": [
        {
          "output_type": "stream",
          "text": [
            "updating: 2020-03-07.png (deflated 0%)\n",
            "updating: 2020-03-08.png (deflated 0%)\n",
            "updating: 2020-03-09.png (deflated 0%)\n",
            "updating: 2020-03-10.png (deflated 0%)\n",
            "updating: 2020-03-11.png (deflated 0%)\n",
            "updating: 2020-03-12.png (deflated 0%)\n",
            "updating: 2020-03-13.png (deflated 0%)\n",
            "updating: 2020-03-14.png (deflated 0%)\n",
            "updating: 2020-03-15.png (deflated 0%)\n",
            "updating: 2020-03-16.png (deflated 0%)\n",
            "updating: 2020-03-17.png (deflated 0%)\n",
            "updating: 2020-03-18.png (deflated 0%)\n",
            "updating: 2020-03-19.png (deflated 0%)\n",
            "updating: 2020-03-20.png (deflated 0%)\n",
            "updating: 2020-03-21.png (deflated 0%)\n",
            "updating: 2020-03-22.png (deflated 0%)\n",
            "updating: 2020-03-23.png (deflated 0%)\n",
            "updating: 2020-03-24.png (deflated 0%)\n",
            "updating: 2020-03-25.png (deflated 0%)\n",
            "updating: 2020-03-26.png (deflated 0%)\n",
            "updating: 2020-03-27.png (deflated 0%)\n",
            "updating: 2020-03-28.png (deflated 0%)\n",
            "updating: 2020-03-29.png (deflated 0%)\n",
            "updating: 2020-03-30.png (deflated 0%)\n",
            "updating: 2020-03-31.png (deflated 0%)\n",
            "updating: 2020-04-01.png (deflated 0%)\n",
            "updating: 2020-04-02.png (deflated 0%)\n",
            "updating: 2020-04-03.png (deflated 0%)\n",
            "updating: 2020-04-04.png (deflated 0%)\n",
            "updating: 2020-04-05.png (deflated 0%)\n",
            "updating: 2020-04-06.png (deflated 0%)\n",
            "updating: 2020-04-07.png (deflated 0%)\n",
            "updating: 2020-04-08.png (deflated 0%)\n",
            "updating: 2020-04-09.png (deflated 0%)\n",
            "updating: 2020-04-10.png (deflated 0%)\n",
            "updating: 2020-04-11.png (deflated 0%)\n",
            "updating: 2020-04-12.png (deflated 0%)\n",
            "updating: 2020-04-13.png (deflated 0%)\n",
            "updating: 2020-04-14.png (deflated 0%)\n",
            "updating: 2020-04-15.png (deflated 0%)\n",
            "updating: 2020-04-16.png (deflated 0%)\n",
            "updating: 2020-04-17.png (deflated 0%)\n",
            "updating: 2020-04-18.png (deflated 0%)\n",
            "updating: 2020-04-19.png (deflated 0%)\n",
            "updating: 2020-04-20.png (deflated 0%)\n",
            "updating: 2020-04-21.png (deflated 0%)\n",
            "updating: 2020-04-22.png (deflated 0%)\n",
            "updating: 2020-04-23.png (deflated 0%)\n",
            "updating: 2020-04-24.png (deflated 0%)\n",
            "updating: 2020-04-25.png (deflated 0%)\n"
          ],
          "name": "stdout"
        }
      ]
    },
    {
      "cell_type": "markdown",
      "metadata": {
        "id": "-2f52BvFDahA",
        "colab_type": "text"
      },
      "source": [
        "generate video from image sequence\n",
        "https://gist.github.com/anguyen8/d0630b6aef6c1cd79b9a1341e88a573e"
      ]
    },
    {
      "cell_type": "code",
      "metadata": {
        "id": "ej7CWXS-tyMS",
        "colab_type": "code",
        "colab": {}
      },
      "source": [
        "import folium\n",
        "import branca\n",
        "\n",
        "bins = [0, 5, 25, 50, 100, 500]\n",
        "map_osm = folium.Map(attr=\"Robert Koch-Institut (RKI), dl-de/by-2-0\", location=[51.3, 10.5], tiles='cartodbpositron', zoom_start=7)\n",
        "\n",
        "#result.apply(lambda row:folium.GeoJson(row[1], fill_color=colorscale(row[0])).add_to(map_osm), axis=1)\n",
        "folium.Choropleth(\n",
        "    geo_data=rki_geo_raw,\n",
        "    data=result['03-10-2020':'03-10-2020'],\n",
        "    columns=['RS', 'cases_per_100k'],\n",
        "    key_on='feature.properties.RS',\n",
        "    fill_color='YlOrRd',\n",
        "    fill_opacity=0.6,\n",
        "    line_opacity=0.0,\n",
        "    nan_fill_color='#f5f5f3',\n",
        "    legend_name='cases per 100k',\n",
        "    bins=[float(x) for x in bins],\n",
        "    smooth_factor = 0.1\n",
        ").add_to(map_osm)\n",
        "\n",
        "legend_html = '<div style=\"position: fixed; bottom: 75px; left: 50%; margin-left: -350px; width: 700px; height: 20px; z-index:9999; font-size:42px;\">&nbsp; ' + '03-10-2020 - 03-17-2020' + '<br></div>'\n",
        "map_osm.get_root().html.add_child(folium.Element(legend_html))\n",
        "\n",
        "map_osm"
      ],
      "execution_count": 0,
      "outputs": []
    },
    {
      "cell_type": "code",
      "metadata": {
        "id": "bwnW7JvS6oAp",
        "colab_type": "code",
        "colab": {
          "base_uri": "https://localhost:8080/",
          "height": 395
        },
        "outputId": "97cfe7e9-4353-499a-af15-0ce1e1e057f6"
      },
      "source": [
        "rki_raw_a00 = rki_raw[rki_raw['Altersgruppe'].str.match('A00-A04')]\n",
        "rki_raw_a05 = rki_raw[rki_raw['Altersgruppe'].str.match('A05-A14')]\n",
        "rki_raw_a15 = rki_raw[rki_raw['Altersgruppe'].str.match('A15-A34')]\n",
        "rki_raw_a35 = rki_raw[rki_raw['Altersgruppe'].str.match('A35-A59')]\n",
        "rki_raw_a60 = rki_raw[rki_raw['Altersgruppe'].str.match('A60-A79')]\n",
        "rki_raw_a80 = rki_raw[rki_raw['Altersgruppe'].str.match('A80+')]\n",
        "\n",
        "rki_cases_a00 = new_cases_by_date(rki_raw_a00, rki_flag_column='NeuerFall', rki_count_columns='AnzahlFall').rename('A00-A04')\n",
        "rki_cases_a05 = new_cases_by_date(rki_raw_a05, rki_flag_column='NeuerFall', rki_count_columns='AnzahlFall').rename('A05-A14')\n",
        "rki_cases_a15 = new_cases_by_date(rki_raw_a15, rki_flag_column='NeuerFall', rki_count_columns='AnzahlFall').rename('A15-A34')\n",
        "rki_cases_a35 = new_cases_by_date(rki_raw_a35, rki_flag_column='NeuerFall', rki_count_columns='AnzahlFall').rename('A35-A59')\n",
        "rki_cases_a60 = new_cases_by_date(rki_raw_a60, rki_flag_column='NeuerFall', rki_count_columns='AnzahlFall').rename('A60-A79')\n",
        "rki_cases_a80 = new_cases_by_date(rki_raw_a80, rki_flag_column='NeuerFall', rki_count_columns='AnzahlFall').rename('A80+')\n",
        "\n",
        "rki_age_case = pd.concat([rki_cases_a00, rki_cases_a05, rki_cases_a15, rki_cases_a35, rki_cases_a60, rki_cases_a80], axis=1)\n",
        "\n",
        "#rki_age_case.rename(columns_dict, axis=1, inplace=True)\n",
        "#rki_age_case = rki_age_case.rename(index={0: 'A00-A04', 1: 'A05-A14',2: 'A15-A34',3: 'A35-A59',4: 'A60-A79',5: 'A80+'})\n",
        "rki_age_case.tail()\n",
        "\n",
        "#rki_age_case['03-05-2020':].plot.bar(stacked=True, colormap='Blues');\n"
      ],
      "execution_count": 55,
      "outputs": [
        {
          "output_type": "error",
          "ename": "TypeError",
          "evalue": "ignored",
          "traceback": [
            "\u001b[0;31m---------------------------------------------------------------------------\u001b[0m",
            "\u001b[0;31mTypeError\u001b[0m                                 Traceback (most recent call last)",
            "\u001b[0;32m<ipython-input-55-79745fe02965>\u001b[0m in \u001b[0;36m<module>\u001b[0;34m()\u001b[0m\n\u001b[1;32m      6\u001b[0m \u001b[0mrki_raw_a80\u001b[0m \u001b[0;34m=\u001b[0m \u001b[0mrki_raw\u001b[0m\u001b[0;34m[\u001b[0m\u001b[0mrki_raw\u001b[0m\u001b[0;34m[\u001b[0m\u001b[0;34m'Altersgruppe'\u001b[0m\u001b[0;34m]\u001b[0m\u001b[0;34m.\u001b[0m\u001b[0mstr\u001b[0m\u001b[0;34m.\u001b[0m\u001b[0mmatch\u001b[0m\u001b[0;34m(\u001b[0m\u001b[0;34m'A80+'\u001b[0m\u001b[0;34m)\u001b[0m\u001b[0;34m]\u001b[0m\u001b[0;34m\u001b[0m\u001b[0;34m\u001b[0m\u001b[0m\n\u001b[1;32m      7\u001b[0m \u001b[0;34m\u001b[0m\u001b[0m\n\u001b[0;32m----> 8\u001b[0;31m \u001b[0mrki_cases_a00\u001b[0m \u001b[0;34m=\u001b[0m \u001b[0mnew_cases_by_date\u001b[0m\u001b[0;34m(\u001b[0m\u001b[0mrki_raw_a00\u001b[0m\u001b[0;34m,\u001b[0m \u001b[0mrki_flag_column\u001b[0m\u001b[0;34m=\u001b[0m\u001b[0;34m'NeuerFall'\u001b[0m\u001b[0;34m,\u001b[0m \u001b[0mrki_count_columns\u001b[0m\u001b[0;34m=\u001b[0m\u001b[0;34m'AnzahlFall'\u001b[0m\u001b[0;34m)\u001b[0m\u001b[0;34m.\u001b[0m\u001b[0mrename\u001b[0m\u001b[0;34m(\u001b[0m\u001b[0;34m'A00-A04'\u001b[0m\u001b[0;34m)\u001b[0m\u001b[0;34m\u001b[0m\u001b[0;34m\u001b[0m\u001b[0m\n\u001b[0m\u001b[1;32m      9\u001b[0m \u001b[0mrki_cases_a05\u001b[0m \u001b[0;34m=\u001b[0m \u001b[0mnew_cases_by_date\u001b[0m\u001b[0;34m(\u001b[0m\u001b[0mrki_raw_a05\u001b[0m\u001b[0;34m,\u001b[0m \u001b[0mrki_flag_column\u001b[0m\u001b[0;34m=\u001b[0m\u001b[0;34m'NeuerFall'\u001b[0m\u001b[0;34m,\u001b[0m \u001b[0mrki_count_columns\u001b[0m\u001b[0;34m=\u001b[0m\u001b[0;34m'AnzahlFall'\u001b[0m\u001b[0;34m)\u001b[0m\u001b[0;34m.\u001b[0m\u001b[0mrename\u001b[0m\u001b[0;34m(\u001b[0m\u001b[0;34m'A05-A14'\u001b[0m\u001b[0;34m)\u001b[0m\u001b[0;34m\u001b[0m\u001b[0;34m\u001b[0m\u001b[0m\n\u001b[1;32m     10\u001b[0m \u001b[0mrki_cases_a15\u001b[0m \u001b[0;34m=\u001b[0m \u001b[0mnew_cases_by_date\u001b[0m\u001b[0;34m(\u001b[0m\u001b[0mrki_raw_a15\u001b[0m\u001b[0;34m,\u001b[0m \u001b[0mrki_flag_column\u001b[0m\u001b[0;34m=\u001b[0m\u001b[0;34m'NeuerFall'\u001b[0m\u001b[0;34m,\u001b[0m \u001b[0mrki_count_columns\u001b[0m\u001b[0;34m=\u001b[0m\u001b[0;34m'AnzahlFall'\u001b[0m\u001b[0;34m)\u001b[0m\u001b[0;34m.\u001b[0m\u001b[0mrename\u001b[0m\u001b[0;34m(\u001b[0m\u001b[0;34m'A15-A34'\u001b[0m\u001b[0;34m)\u001b[0m\u001b[0;34m\u001b[0m\u001b[0;34m\u001b[0m\u001b[0m\n",
            "\u001b[0;32m/usr/local/lib/python3.6/dist-packages/pandas/util/_decorators.py\u001b[0m in \u001b[0;36mwrapper\u001b[0;34m(*args, **kwargs)\u001b[0m\n\u001b[1;32m    225\u001b[0m         \u001b[0;34m@\u001b[0m\u001b[0mwraps\u001b[0m\u001b[0;34m(\u001b[0m\u001b[0mfunc\u001b[0m\u001b[0;34m)\u001b[0m\u001b[0;34m\u001b[0m\u001b[0;34m\u001b[0m\u001b[0m\n\u001b[1;32m    226\u001b[0m         \u001b[0;32mdef\u001b[0m \u001b[0mwrapper\u001b[0m\u001b[0;34m(\u001b[0m\u001b[0;34m*\u001b[0m\u001b[0margs\u001b[0m\u001b[0;34m,\u001b[0m \u001b[0;34m**\u001b[0m\u001b[0mkwargs\u001b[0m\u001b[0;34m)\u001b[0m \u001b[0;34m->\u001b[0m \u001b[0mCallable\u001b[0m\u001b[0;34m[\u001b[0m\u001b[0;34m...\u001b[0m\u001b[0;34m,\u001b[0m \u001b[0mAny\u001b[0m\u001b[0;34m]\u001b[0m\u001b[0;34m:\u001b[0m\u001b[0;34m\u001b[0m\u001b[0;34m\u001b[0m\u001b[0m\n\u001b[0;32m--> 227\u001b[0;31m             \u001b[0;32mreturn\u001b[0m \u001b[0mfunc\u001b[0m\u001b[0;34m(\u001b[0m\u001b[0;34m*\u001b[0m\u001b[0margs\u001b[0m\u001b[0;34m,\u001b[0m \u001b[0;34m**\u001b[0m\u001b[0mkwargs\u001b[0m\u001b[0;34m)\u001b[0m\u001b[0;34m\u001b[0m\u001b[0;34m\u001b[0m\u001b[0m\n\u001b[0m\u001b[1;32m    228\u001b[0m \u001b[0;34m\u001b[0m\u001b[0m\n\u001b[1;32m    229\u001b[0m         \u001b[0mkind\u001b[0m \u001b[0;34m=\u001b[0m \u001b[0minspect\u001b[0m\u001b[0;34m.\u001b[0m\u001b[0mParameter\u001b[0m\u001b[0;34m.\u001b[0m\u001b[0mPOSITIONAL_OR_KEYWORD\u001b[0m\u001b[0;34m\u001b[0m\u001b[0;34m\u001b[0m\u001b[0m\n",
            "\u001b[0;32m/usr/local/lib/python3.6/dist-packages/pandas/core/frame.py\u001b[0m in \u001b[0;36mrename\u001b[0;34m(self, mapper, index, columns, axis, copy, inplace, level, errors)\u001b[0m\n\u001b[1;32m   4131\u001b[0m             \u001b[0minplace\u001b[0m\u001b[0;34m=\u001b[0m\u001b[0minplace\u001b[0m\u001b[0;34m,\u001b[0m\u001b[0;34m\u001b[0m\u001b[0;34m\u001b[0m\u001b[0m\n\u001b[1;32m   4132\u001b[0m             \u001b[0mlevel\u001b[0m\u001b[0;34m=\u001b[0m\u001b[0mlevel\u001b[0m\u001b[0;34m,\u001b[0m\u001b[0;34m\u001b[0m\u001b[0;34m\u001b[0m\u001b[0m\n\u001b[0;32m-> 4133\u001b[0;31m             \u001b[0merrors\u001b[0m\u001b[0;34m=\u001b[0m\u001b[0merrors\u001b[0m\u001b[0;34m,\u001b[0m\u001b[0;34m\u001b[0m\u001b[0;34m\u001b[0m\u001b[0m\n\u001b[0m\u001b[1;32m   4134\u001b[0m         )\n\u001b[1;32m   4135\u001b[0m \u001b[0;34m\u001b[0m\u001b[0m\n",
            "\u001b[0;32m/usr/local/lib/python3.6/dist-packages/pandas/core/generic.py\u001b[0m in \u001b[0;36mrename\u001b[0;34m(self, mapper, index, columns, axis, copy, inplace, level, errors)\u001b[0m\n\u001b[1;32m   1088\u001b[0m             \u001b[0;31m# GH 13473\u001b[0m\u001b[0;34m\u001b[0m\u001b[0;34m\u001b[0m\u001b[0;34m\u001b[0m\u001b[0m\n\u001b[1;32m   1089\u001b[0m             \u001b[0;32mif\u001b[0m \u001b[0;32mnot\u001b[0m \u001b[0mcallable\u001b[0m\u001b[0;34m(\u001b[0m\u001b[0mreplacements\u001b[0m\u001b[0;34m)\u001b[0m\u001b[0;34m:\u001b[0m\u001b[0;34m\u001b[0m\u001b[0;34m\u001b[0m\u001b[0m\n\u001b[0;32m-> 1090\u001b[0;31m                 \u001b[0mindexer\u001b[0m \u001b[0;34m=\u001b[0m \u001b[0max\u001b[0m\u001b[0;34m.\u001b[0m\u001b[0mget_indexer_for\u001b[0m\u001b[0;34m(\u001b[0m\u001b[0mreplacements\u001b[0m\u001b[0;34m)\u001b[0m\u001b[0;34m\u001b[0m\u001b[0;34m\u001b[0m\u001b[0m\n\u001b[0m\u001b[1;32m   1091\u001b[0m                 \u001b[0;32mif\u001b[0m \u001b[0merrors\u001b[0m \u001b[0;34m==\u001b[0m \u001b[0;34m\"raise\"\u001b[0m \u001b[0;32mand\u001b[0m \u001b[0mlen\u001b[0m\u001b[0;34m(\u001b[0m\u001b[0mindexer\u001b[0m\u001b[0;34m[\u001b[0m\u001b[0mindexer\u001b[0m \u001b[0;34m==\u001b[0m \u001b[0;34m-\u001b[0m\u001b[0;36m1\u001b[0m\u001b[0;34m]\u001b[0m\u001b[0;34m)\u001b[0m\u001b[0;34m:\u001b[0m\u001b[0;34m\u001b[0m\u001b[0;34m\u001b[0m\u001b[0m\n\u001b[1;32m   1092\u001b[0m                     missing_labels = [\n",
            "\u001b[0;32m/usr/local/lib/python3.6/dist-packages/pandas/core/indexes/base.py\u001b[0m in \u001b[0;36mget_indexer_for\u001b[0;34m(self, target, **kwargs)\u001b[0m\n\u001b[1;32m   4499\u001b[0m         \"\"\"\n\u001b[1;32m   4500\u001b[0m         \u001b[0;32mif\u001b[0m \u001b[0mself\u001b[0m\u001b[0;34m.\u001b[0m\u001b[0mis_unique\u001b[0m\u001b[0;34m:\u001b[0m\u001b[0;34m\u001b[0m\u001b[0;34m\u001b[0m\u001b[0m\n\u001b[0;32m-> 4501\u001b[0;31m             \u001b[0;32mreturn\u001b[0m \u001b[0mself\u001b[0m\u001b[0;34m.\u001b[0m\u001b[0mget_indexer\u001b[0m\u001b[0;34m(\u001b[0m\u001b[0mtarget\u001b[0m\u001b[0;34m,\u001b[0m \u001b[0;34m**\u001b[0m\u001b[0mkwargs\u001b[0m\u001b[0;34m)\u001b[0m\u001b[0;34m\u001b[0m\u001b[0;34m\u001b[0m\u001b[0m\n\u001b[0m\u001b[1;32m   4502\u001b[0m         \u001b[0mindexer\u001b[0m\u001b[0;34m,\u001b[0m \u001b[0m_\u001b[0m \u001b[0;34m=\u001b[0m \u001b[0mself\u001b[0m\u001b[0;34m.\u001b[0m\u001b[0mget_indexer_non_unique\u001b[0m\u001b[0;34m(\u001b[0m\u001b[0mtarget\u001b[0m\u001b[0;34m,\u001b[0m \u001b[0;34m**\u001b[0m\u001b[0mkwargs\u001b[0m\u001b[0;34m)\u001b[0m\u001b[0;34m\u001b[0m\u001b[0;34m\u001b[0m\u001b[0m\n\u001b[1;32m   4503\u001b[0m         \u001b[0;32mreturn\u001b[0m \u001b[0mindexer\u001b[0m\u001b[0;34m\u001b[0m\u001b[0;34m\u001b[0m\u001b[0m\n",
            "\u001b[0;32m/usr/local/lib/python3.6/dist-packages/pandas/core/indexes/base.py\u001b[0m in \u001b[0;36mget_indexer\u001b[0;34m(self, target, method, limit, tolerance)\u001b[0m\n\u001b[1;32m   2707\u001b[0m     \u001b[0;32mdef\u001b[0m \u001b[0mget_indexer\u001b[0m\u001b[0;34m(\u001b[0m\u001b[0mself\u001b[0m\u001b[0;34m,\u001b[0m \u001b[0mtarget\u001b[0m\u001b[0;34m,\u001b[0m \u001b[0mmethod\u001b[0m\u001b[0;34m=\u001b[0m\u001b[0;32mNone\u001b[0m\u001b[0;34m,\u001b[0m \u001b[0mlimit\u001b[0m\u001b[0;34m=\u001b[0m\u001b[0;32mNone\u001b[0m\u001b[0;34m,\u001b[0m \u001b[0mtolerance\u001b[0m\u001b[0;34m=\u001b[0m\u001b[0;32mNone\u001b[0m\u001b[0;34m)\u001b[0m\u001b[0;34m:\u001b[0m\u001b[0;34m\u001b[0m\u001b[0;34m\u001b[0m\u001b[0m\n\u001b[1;32m   2708\u001b[0m         \u001b[0mmethod\u001b[0m \u001b[0;34m=\u001b[0m \u001b[0mmissing\u001b[0m\u001b[0;34m.\u001b[0m\u001b[0mclean_reindex_fill_method\u001b[0m\u001b[0;34m(\u001b[0m\u001b[0mmethod\u001b[0m\u001b[0;34m)\u001b[0m\u001b[0;34m\u001b[0m\u001b[0;34m\u001b[0m\u001b[0m\n\u001b[0;32m-> 2709\u001b[0;31m         \u001b[0mtarget\u001b[0m \u001b[0;34m=\u001b[0m \u001b[0mensure_index\u001b[0m\u001b[0;34m(\u001b[0m\u001b[0mtarget\u001b[0m\u001b[0;34m)\u001b[0m\u001b[0;34m\u001b[0m\u001b[0;34m\u001b[0m\u001b[0m\n\u001b[0m\u001b[1;32m   2710\u001b[0m         \u001b[0;32mif\u001b[0m \u001b[0mtolerance\u001b[0m \u001b[0;32mis\u001b[0m \u001b[0;32mnot\u001b[0m \u001b[0;32mNone\u001b[0m\u001b[0;34m:\u001b[0m\u001b[0;34m\u001b[0m\u001b[0;34m\u001b[0m\u001b[0m\n\u001b[1;32m   2711\u001b[0m             \u001b[0mtolerance\u001b[0m \u001b[0;34m=\u001b[0m \u001b[0mself\u001b[0m\u001b[0;34m.\u001b[0m\u001b[0m_convert_tolerance\u001b[0m\u001b[0;34m(\u001b[0m\u001b[0mtolerance\u001b[0m\u001b[0;34m,\u001b[0m \u001b[0mtarget\u001b[0m\u001b[0;34m)\u001b[0m\u001b[0;34m\u001b[0m\u001b[0;34m\u001b[0m\u001b[0m\n",
            "\u001b[0;32m/usr/local/lib/python3.6/dist-packages/pandas/core/indexes/base.py\u001b[0m in \u001b[0;36mensure_index\u001b[0;34m(index_like, copy)\u001b[0m\n\u001b[1;32m   5355\u001b[0m             \u001b[0mindex_like\u001b[0m \u001b[0;34m=\u001b[0m \u001b[0mcopy\u001b[0m\u001b[0;34m(\u001b[0m\u001b[0mindex_like\u001b[0m\u001b[0;34m)\u001b[0m\u001b[0;34m\u001b[0m\u001b[0;34m\u001b[0m\u001b[0m\n\u001b[1;32m   5356\u001b[0m \u001b[0;34m\u001b[0m\u001b[0m\n\u001b[0;32m-> 5357\u001b[0;31m     \u001b[0;32mreturn\u001b[0m \u001b[0mIndex\u001b[0m\u001b[0;34m(\u001b[0m\u001b[0mindex_like\u001b[0m\u001b[0;34m)\u001b[0m\u001b[0;34m\u001b[0m\u001b[0;34m\u001b[0m\u001b[0m\n\u001b[0m\u001b[1;32m   5358\u001b[0m \u001b[0;34m\u001b[0m\u001b[0m\n\u001b[1;32m   5359\u001b[0m \u001b[0;34m\u001b[0m\u001b[0m\n",
            "\u001b[0;32m/usr/local/lib/python3.6/dist-packages/pandas/core/indexes/base.py\u001b[0m in \u001b[0;36m__new__\u001b[0;34m(cls, data, dtype, copy, name, tupleize_cols, **kwargs)\u001b[0m\n\u001b[1;32m    420\u001b[0m             \u001b[0;32mreturn\u001b[0m \u001b[0mIndex\u001b[0m\u001b[0;34m(\u001b[0m\u001b[0mnp\u001b[0m\u001b[0;34m.\u001b[0m\u001b[0masarray\u001b[0m\u001b[0;34m(\u001b[0m\u001b[0mdata\u001b[0m\u001b[0;34m)\u001b[0m\u001b[0;34m,\u001b[0m \u001b[0mdtype\u001b[0m\u001b[0;34m=\u001b[0m\u001b[0mdtype\u001b[0m\u001b[0;34m,\u001b[0m \u001b[0mcopy\u001b[0m\u001b[0;34m=\u001b[0m\u001b[0mcopy\u001b[0m\u001b[0;34m,\u001b[0m \u001b[0mname\u001b[0m\u001b[0;34m=\u001b[0m\u001b[0mname\u001b[0m\u001b[0;34m,\u001b[0m \u001b[0;34m**\u001b[0m\u001b[0mkwargs\u001b[0m\u001b[0;34m)\u001b[0m\u001b[0;34m\u001b[0m\u001b[0;34m\u001b[0m\u001b[0m\n\u001b[1;32m    421\u001b[0m         \u001b[0;32melif\u001b[0m \u001b[0mdata\u001b[0m \u001b[0;32mis\u001b[0m \u001b[0;32mNone\u001b[0m \u001b[0;32mor\u001b[0m \u001b[0mis_scalar\u001b[0m\u001b[0;34m(\u001b[0m\u001b[0mdata\u001b[0m\u001b[0;34m)\u001b[0m\u001b[0;34m:\u001b[0m\u001b[0;34m\u001b[0m\u001b[0;34m\u001b[0m\u001b[0m\n\u001b[0;32m--> 422\u001b[0;31m             \u001b[0;32mraise\u001b[0m \u001b[0mcls\u001b[0m\u001b[0;34m.\u001b[0m\u001b[0m_scalar_data_error\u001b[0m\u001b[0;34m(\u001b[0m\u001b[0mdata\u001b[0m\u001b[0;34m)\u001b[0m\u001b[0;34m\u001b[0m\u001b[0;34m\u001b[0m\u001b[0m\n\u001b[0m\u001b[1;32m    423\u001b[0m         \u001b[0;32melse\u001b[0m\u001b[0;34m:\u001b[0m\u001b[0;34m\u001b[0m\u001b[0;34m\u001b[0m\u001b[0m\n\u001b[1;32m    424\u001b[0m             \u001b[0;32mif\u001b[0m \u001b[0mtupleize_cols\u001b[0m \u001b[0;32mand\u001b[0m \u001b[0mis_list_like\u001b[0m\u001b[0;34m(\u001b[0m\u001b[0mdata\u001b[0m\u001b[0;34m)\u001b[0m\u001b[0;34m:\u001b[0m\u001b[0;34m\u001b[0m\u001b[0;34m\u001b[0m\u001b[0m\n",
            "\u001b[0;31mTypeError\u001b[0m: Index(...) must be called with a collection of some kind, 'A00-A04' was passed"
          ]
        }
      ]
    },
    {
      "cell_type": "code",
      "metadata": {
        "id": "X2vZjxFltWeD",
        "colab_type": "code",
        "colab": {}
      },
      "source": [
        "rki = pd.concat([rki_cases, rki_death, rki_recovered], axis=1, sort=True)\n",
        "columns_dict = {'AnzahlFall': 'NewCases', 'AnzahlTodesfall': 'NewDeath', 'AnzahlGenesen': 'NewRecovered'}\n",
        "rki.rename(columns_dict, axis=1, inplace=True)\n",
        "rki.fillna(value=0., inplace=True)\n",
        "rki.tail()"
      ],
      "execution_count": 0,
      "outputs": []
    },
    {
      "cell_type": "code",
      "metadata": {
        "id": "dLRi8TrUtWeG",
        "colab_type": "code",
        "colab": {}
      },
      "source": [
        "rki['Cases'] = rki['NewCases'].cumsum()\n",
        "rki['Death'] = rki['NewDeath'].cumsum()\n",
        "rki['Recovered'] = rki['NewRecovered'].cumsum()\n",
        "rki['ActiveCases'] = rki['Cases'] - rki['Recovered']\n",
        "rki['Growth'] = rki['NewCases'] / rki['ActiveCases']\n",
        "rki.tail(10)"
      ],
      "execution_count": 0,
      "outputs": []
    },
    {
      "cell_type": "code",
      "metadata": {
        "id": "sT5hDDaxtWeI",
        "colab_type": "code",
        "colab": {}
      },
      "source": [
        "rki.NewCases['03-05-2020':].plot.bar(stacked=True)"
      ],
      "execution_count": 0,
      "outputs": []
    },
    {
      "cell_type": "code",
      "metadata": {
        "id": "TEehBPuAtWeL",
        "colab_type": "code",
        "colab": {}
      },
      "source": [
        "rki.Cases['03-01-2020':].plot.bar()"
      ],
      "execution_count": 0,
      "outputs": []
    },
    {
      "cell_type": "code",
      "metadata": {
        "id": "7Jt2cfhItWeO",
        "colab_type": "code",
        "colab": {}
      },
      "source": [
        "rki.Recovered['03-01-2020':].plot.bar()"
      ],
      "execution_count": 0,
      "outputs": []
    },
    {
      "cell_type": "code",
      "metadata": {
        "id": "P6HuK60MtWeS",
        "colab_type": "code",
        "colab": {}
      },
      "source": [
        "rki.ActiveCases['03-01-2020':].plot.bar()"
      ],
      "execution_count": 0,
      "outputs": []
    },
    {
      "cell_type": "code",
      "metadata": {
        "id": "QvxeLrtwtWeU",
        "colab_type": "code",
        "colab": {}
      },
      "source": [
        "rki.Death['03-01-2020':].plot.bar()"
      ],
      "execution_count": 0,
      "outputs": []
    },
    {
      "cell_type": "code",
      "metadata": {
        "id": "0v6LPVmltWeW",
        "colab_type": "code",
        "colab": {}
      },
      "source": [
        "rki.NewDeath['03-01-2020':].plot.bar()"
      ],
      "execution_count": 0,
      "outputs": []
    },
    {
      "cell_type": "code",
      "metadata": {
        "id": "t0Al-yUAtWeY",
        "colab_type": "code",
        "colab": {}
      },
      "source": [
        "start_date = '03-05-2020'\n",
        "x = rki[start_date:].index\n",
        "\n",
        "plt.bar(x, rki.Growth[start_date:], label='Growth')\n",
        "plt.plot(x, rki.Growth.ewm(span=6,adjust=False).mean()[start_date:], label='Exponential Moving Average', color='red')\n",
        "plt.legend(loc='best')\n",
        "plt.title('Growth Germany')"
      ],
      "execution_count": 0,
      "outputs": []
    },
    {
      "cell_type": "code",
      "metadata": {
        "id": "Xr1XDsm4tWeb",
        "colab_type": "code",
        "colab": {}
      },
      "source": [
        "rki.Growth['03-21-2020':].plot.bar()"
      ],
      "execution_count": 0,
      "outputs": []
    },
    {
      "cell_type": "code",
      "metadata": {
        "id": "cVVAtHb7tWed",
        "colab_type": "code",
        "colab": {}
      },
      "source": [
        "start_date = '03-01-2020'\n",
        "x = rki[start_date:].index\n",
        "\n",
        "plt.bar(x, rki.NewCases[start_date:], label='New Cases')\n",
        "plt.plot(x, rki.NewCases.ewm(span=3,adjust=False).mean()[start_date:], label='Exponential Moving Average', color='red')\n",
        "plt.legend(loc='best')\n",
        "plt.title('New Cases Germany')"
      ],
      "execution_count": 0,
      "outputs": []
    },
    {
      "cell_type": "code",
      "metadata": {
        "id": "-2_88skZtWef",
        "colab_type": "code",
        "colab": {}
      },
      "source": [
        "rki.tail(20)"
      ],
      "execution_count": 0,
      "outputs": []
    },
    {
      "cell_type": "code",
      "metadata": {
        "id": "Cy1cf1gFtWeh",
        "colab_type": "code",
        "colab": {}
      },
      "source": [
        ""
      ],
      "execution_count": 0,
      "outputs": []
    }
  ]
}