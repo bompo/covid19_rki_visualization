{
  "nbformat": 4,
  "nbformat_minor": 0,
  "metadata": {
    "kernelspec": {
      "display_name": "Python 3",
      "language": "python",
      "name": "python3"
    },
    "language_info": {
      "codemirror_mode": {
        "name": "ipython",
        "version": 3
      },
      "file_extension": ".py",
      "mimetype": "text/x-python",
      "name": "python",
      "nbconvert_exporter": "python",
      "pygments_lexer": "ipython3",
      "version": "3.7.7"
    },
    "colab": {
      "name": "COVID-19 RKI Analysis.ipynb",
      "provenance": [],
      "collapsed_sections": [],
      "toc_visible": true
    }
  },
  "cells": [
    {
      "cell_type": "markdown",
      "metadata": {
        "id": "UOC6-oOVtWdv"
      },
      "source": [
        "### Import Libraries and Read Data"
      ]
    },
    {
      "cell_type": "code",
      "metadata": {
        "id": "JUOIkIl7_OdX"
      },
      "source": [
        "!pip install geopandas -qq\n",
        "!pip install fiona -qq\n",
        "!pip install folium -qq"
      ],
      "execution_count": null,
      "outputs": []
    },
    {
      "cell_type": "code",
      "metadata": {
        "id": "8A-ib33rLaXb"
      },
      "source": [
        "!pip install pandas==1.0.0"
      ],
      "execution_count": null,
      "outputs": []
    },
    {
      "cell_type": "code",
      "metadata": {
        "id": "K4L1MfGmfkrH"
      },
      "source": [
        "!pip install selenium -qq\n",
        "from selenium import webdriver\n",
        "!wget https://bitbucket.org/ariya/phantomjs/downloads/phantomjs-2.1.1-linux-x86_64.tar.bz2\n",
        "!tar xvjf phantomjs-2.1.1-linux-x86_64.tar.bz2\n",
        "!cp phantomjs-2.1.1-linux-x86_64/bin/phantomjs /usr/local/bin"
      ],
      "execution_count": null,
      "outputs": []
    },
    {
      "cell_type": "code",
      "metadata": {
        "id": "IUO6CAe-tWdw"
      },
      "source": [
        "## Import Libraries\n",
        "import numpy as np\n",
        "import pandas as pd\n",
        "import requests\n",
        "import matplotlib.pyplot as plt\n",
        "import geopandas\n",
        "import folium\n",
        "from io import StringIO"
      ],
      "execution_count": null,
      "outputs": []
    },
    {
      "cell_type": "code",
      "metadata": {
        "id": "sM9C8Lv0tWdz"
      },
      "source": [
        "%matplotlib inline\n",
        "plt.rcParams['figure.figsize'] = [15, 8]\n",
        "pd.plotting.register_matplotlib_converters()\n",
        "plt.style.use('seaborn-dark')"
      ],
      "execution_count": null,
      "outputs": []
    },
    {
      "cell_type": "markdown",
      "metadata": {
        "id": "inM_E8mDMybP"
      },
      "source": [
        "Fetch latest RKI Data"
      ]
    },
    {
      "cell_type": "code",
      "metadata": {
        "id": "W2JcCPaYtWd2"
      },
      "source": [
        "download_link = 'https://www.arcgis.com/sharing/rest/content/items/f10774f1c63e40168479a1feb6c7ca74/data'\n",
        "# see https://www.arcgis.com/home/item.html?id=dd4580c810204019a7b8eb3e0b329dd6\n",
        "# new source https://www.arcgis.com/home/item.html?id=f10774f1c63e40168479a1feb6c7ca74"
      ],
      "execution_count": null,
      "outputs": []
    },
    {
      "cell_type": "code",
      "metadata": {
        "id": "-ES-iLUYtWd4"
      },
      "source": [
        "req = requests.get(download_link)\n",
        "rki_raw = pd.read_csv(StringIO(req.text))\n",
        "\n",
        "# set index to datetime from 'Meldedatum'\n",
        "rki_raw = rki_raw.set_index('Meldedatum')\n",
        "rki_raw.index = pd.to_datetime(rki_raw.index)"
      ],
      "execution_count": null,
      "outputs": []
    },
    {
      "cell_type": "markdown",
      "metadata": {
        "id": "8H0ykGVCM8L-"
      },
      "source": [
        "Fetch GeoJSON to show 'Landkreise'"
      ]
    },
    {
      "cell_type": "code",
      "metadata": {
        "id": "MnTMUk8BMWWC"
      },
      "source": [
        "rki_geo_raw = geopandas.read_file('https://opendata.arcgis.com/datasets/917fc37a709542548cc3be077a786c17_0.geojson')\n",
        "rki_geo = geopandas.read_file('https://opendata.arcgis.com/datasets/917fc37a709542548cc3be077a786c17_0.geojson')\n",
        "\n",
        "rki_geo = rki_geo[['RS', 'geometry', 'EWZ']]\n",
        "\n",
        "# add leading zero to RS to match 'IdLandkreis' from rki dataset\n",
        "rki_geo['RS'] = rki_geo['RS'].astype(str).str.zfill(5)\n",
        "rki_geo = rki_geo.set_index('RS')\n",
        "\n",
        "rki_geo['geometry'] = rki_geo['geometry'].apply(lambda x: x.wkt).values\n",
        "\n",
        "rki_geo.head()"
      ],
      "execution_count": null,
      "outputs": []
    },
    {
      "cell_type": "code",
      "metadata": {
        "id": "CBGc3pS6tWd7"
      },
      "source": [
        "rki_raw.tail()"
      ],
      "execution_count": null,
      "outputs": []
    },
    {
      "cell_type": "code",
      "metadata": {
        "id": "DAHMXdJQtWd-"
      },
      "source": [
        "def new_cases_by_date(rki_raw, rki_flag_column='NeuerFall', rki_count_columns='AnzahlFall'):\n",
        "    \"\"\"\n",
        "    rki_raw: raw DataFrame from Robert Koch Institute\n",
        "    \"\"\"\n",
        "    condition = rki_raw[rki_flag_column].isin((0, 1))\n",
        "    rki_series = rki_raw[condition].groupby(['IdLandkreis'])[rki_count_columns].sum().to_frame(name = rki_count_columns).reset_index()\n",
        "    \n",
        "    rki_series = rki_series[['IdLandkreis', 'AnzahlFall']]\n",
        "\n",
        "    #join geodata\n",
        "    rki_series['IdLandkreis'] = rki_series['IdLandkreis'].astype(str).str.zfill(5)\n",
        "    rki_series = rki_series.set_index('IdLandkreis')\n",
        "    rki_series = rki_series.join(rki_geo)\n",
        "\n",
        "    return rki_series"
      ],
      "execution_count": null,
      "outputs": []
    },
    {
      "cell_type": "markdown",
      "metadata": {
        "id": "kwBQDazrNWgB"
      },
      "source": [
        "Generate Dataset with cases from last 7 days by 100k for each period since 2020-03-01"
      ]
    },
    {
      "cell_type": "code",
      "metadata": {
        "id": "ZwyicsMLtWeB"
      },
      "source": [
        "start_date = pd.to_datetime('2020-03-01')\n",
        "end_date = rki_raw.index.max()\n",
        "\n",
        "frames = []\n",
        "\n",
        "for j in pd.date_range(start_date, end_date - pd.to_timedelta(6,'d')):\n",
        "    \n",
        "    startrange = j.strftime('%Y-%m-%d')\n",
        "    endrange = (j + pd.to_timedelta(6,'d')).strftime('%Y-%m-%d')\n",
        "    rki_cases = new_cases_by_date(rki_raw[startrange:endrange], rki_flag_column='NeuerFall', rki_count_columns='AnzahlFall')\n",
        "    rki_cases['date'] = (j + pd.to_timedelta(6,'d'))\n",
        "    rki_cases['RS'] = rki_cases.index\n",
        "    rki_cases['cases_per_100k'] = rki_cases['AnzahlFall'] / rki_cases['EWZ'] * 100000\n",
        "\n",
        "    rki_cases = rki_cases.set_index('date')\n",
        "    frames.append(rki_cases)\n",
        "\n",
        "#rki_death = new_cases_by_date(rki_raw, rki_flag_column='NeuerTodesfall', rki_count_columns='AnzahlTodesfall')\n",
        "#rki_recovered = new_cases_by_date(rki_raw, rki_flag_column='NeuGenesen', rki_count_columns='AnzahlGenesen')\n",
        "\n",
        "result = pd.concat(frames)\n"
      ],
      "execution_count": null,
      "outputs": []
    },
    {
      "cell_type": "code",
      "metadata": {
        "id": "vrqnr365GeGV"
      },
      "source": [
        "# max value to adjust bin\n",
        "result['cases_per_100k'].max()"
      ],
      "execution_count": null,
      "outputs": []
    },
    {
      "cell_type": "code",
      "metadata": {
        "id": "Snl7KurVwF8b"
      },
      "source": [
        "#delete generated data\n",
        "!rm *.png\n",
        "!rm last_7_days_maps.zip"
      ],
      "execution_count": null,
      "outputs": []
    },
    {
      "cell_type": "markdown",
      "metadata": {
        "id": "ja1aFgQxOG59"
      },
      "source": [
        "Generate maps for each period"
      ]
    },
    {
      "cell_type": "code",
      "metadata": {
        "id": "lC31v482Lw1O"
      },
      "source": [
        "import folium\n",
        "import branca\n",
        "import selenium\n",
        "from selenium.common.exceptions import TimeoutException\n",
        "from selenium.webdriver.support.ui import WebDriverWait\n",
        "from selenium.webdriver.support import expected_conditions as EC\n",
        "from selenium.webdriver.common.by import By\n",
        "\n",
        "\n",
        "for j in pd.date_range(start_date, end_date - pd.to_timedelta(6,'d')):\n",
        "\n",
        "  #bins = list(result['cases_per_100k'].quantile([0, 0.25, 0.5, 0.75, 1]))\n",
        "  bins = [0,5,10,15,20,30,40,50,600]\n",
        "\n",
        "  map_osm = folium.Map(attr='Robert Koch-Institut (RKI), dl-de/by-2-0', location=[51.3, 10.5], tiles='cartodbpositron', zoom_start=7)\n",
        "\n",
        "  folium.Choropleth(\n",
        "      geo_data=rki_geo_raw,\n",
        "      data=result[(j + pd.to_timedelta(6,'d')):(j + pd.to_timedelta(6,'d'))],\n",
        "      columns=['RS', 'cases_per_100k'],\n",
        "      key_on='feature.properties.RS',\n",
        "      fill_color='YlOrRd',\n",
        "      fill_opacity=0.6,\n",
        "      line_opacity=0.0,\n",
        "      nan_fill_color='#f5f5f3',\n",
        "      legend_name='cases per 100k (last 7 days)',\n",
        "      bins=[float(x) for x in bins],\n",
        "      smooth_factor = 0.1\n",
        "  ).add_to(map_osm)\n",
        "\n",
        "  legend_html = '<div style=\"position: fixed; bottom: 75px; left: 50%; margin-left: -350px; width: 700px; height: 20px; z-index:9999; font-size:42px;\">&nbsp; ' + j.strftime('%Y-%m-%d') + ' - ' + (j + pd.to_timedelta(6,'d')).strftime('%Y-%m-%d') + '<br></div>'\n",
        "  map_osm.get_root().html.add_child(folium.Element(legend_html))\n",
        "\n",
        "  map_osm.save('map.html')\n",
        "\n",
        "  # save map as png with headless browser\n",
        "  driver = selenium.webdriver.PhantomJS()\n",
        "  driver.implicitly_wait(20)\n",
        "  driver.set_window_size(1000, 1400)  # choose a resolution\n",
        "  driver.get('map.html')\n",
        "  delay = 200 # seconds\n",
        "  try:\n",
        "      myElem = WebDriverWait(driver, delay).until(EC.presence_of_element_located((By.ID, 'legend')))\n",
        "      print(\"Page is ready!\")\n",
        "  except TimeoutException:\n",
        "      print(\"Loading took too much time!\")\n",
        "\n",
        "  driver.save_screenshot((j + pd.to_timedelta(6,'d')).strftime('%Y-%m-%d') + \".png\")"
      ],
      "execution_count": null,
      "outputs": []
    },
    {
      "cell_type": "code",
      "metadata": {
        "id": "U4ybfaB3lp-n"
      },
      "source": [
        "!zip last_7_days_maps.zip *.png"
      ],
      "execution_count": null,
      "outputs": []
    },
    {
      "cell_type": "code",
      "metadata": {
        "id": "GstIJoJDVd3v"
      },
      "source": [
        "from google.colab import drive\n",
        "drive.mount('/content/drive')"
      ],
      "execution_count": null,
      "outputs": []
    },
    {
      "cell_type": "markdown",
      "metadata": {
        "id": "-2f52BvFDahA"
      },
      "source": [
        "[link text](https://)generate video from image sequence\n",
        "https://gist.github.com/anguyen8/d0630b6aef6c1cd79b9a1341e88a573e"
      ]
    },
    {
      "cell_type": "code",
      "metadata": {
        "id": "ej7CWXS-tyMS"
      },
      "source": [
        "import folium\n",
        "import branca\n",
        "\n",
        "bins = [0, 5, 25, 50, 100, 500]\n",
        "map_osm = folium.Map(attr=\"Robert Koch-Institut (RKI), dl-de/by-2-0\", location=[51.3, 10.5], tiles='cartodbpositron', zoom_start=7)\n",
        "\n",
        "#result.apply(lambda row:folium.GeoJson(row[1], fill_color=colorscale(row[0])).add_to(map_osm), axis=1)\n",
        "folium.Choropleth(\n",
        "    geo_data=rki_geo_raw,\n",
        "    data=result['03-10-2020':'03-10-2020'],\n",
        "    columns=['RS', 'cases_per_100k'],\n",
        "    key_on='feature.properties.RS',\n",
        "    fill_color='YlOrRd',\n",
        "    fill_opacity=0.6,\n",
        "    line_opacity=0.0,\n",
        "    nan_fill_color='#f5f5f3',\n",
        "    legend_name='cases per 100k',\n",
        "    bins=[float(x) for x in bins],\n",
        "    smooth_factor = 0.1\n",
        ").add_to(map_osm)\n",
        "\n",
        "legend_html = '<div style=\"position: fixed; bottom: 75px; left: 50%; margin-left: -350px; width: 700px; height: 20px; z-index:9999; font-size:42px;\">&nbsp; ' + '03-10-2020 - 03-17-2020' + '<br></div>'\n",
        "map_osm.get_root().html.add_child(folium.Element(legend_html))\n",
        "\n",
        "map_osm"
      ],
      "execution_count": null,
      "outputs": []
    },
    {
      "cell_type": "code",
      "metadata": {
        "id": "bwnW7JvS6oAp"
      },
      "source": [
        "rki_raw_a00 = rki_raw[rki_raw['Altersgruppe'].str.match('A00-A04')]\n",
        "rki_raw_a05 = rki_raw[rki_raw['Altersgruppe'].str.match('A05-A14')]\n",
        "rki_raw_a15 = rki_raw[rki_raw['Altersgruppe'].str.match('A15-A34')]\n",
        "rki_raw_a35 = rki_raw[rki_raw['Altersgruppe'].str.match('A35-A59')]\n",
        "rki_raw_a60 = rki_raw[rki_raw['Altersgruppe'].str.match('A60-A79')]\n",
        "rki_raw_a80 = rki_raw[rki_raw['Altersgruppe'].str.match('A80+')]\n",
        "\n",
        "rki_cases_a00 = new_cases_by_date(rki_raw_a00, rki_flag_column='NeuerFall', rki_count_columns='AnzahlFall').rename('A00-A04')\n",
        "rki_cases_a05 = new_cases_by_date(rki_raw_a05, rki_flag_column='NeuerFall', rki_count_columns='AnzahlFall').rename('A05-A14')\n",
        "rki_cases_a15 = new_cases_by_date(rki_raw_a15, rki_flag_column='NeuerFall', rki_count_columns='AnzahlFall').rename('A15-A34')\n",
        "rki_cases_a35 = new_cases_by_date(rki_raw_a35, rki_flag_column='NeuerFall', rki_count_columns='AnzahlFall').rename('A35-A59')\n",
        "rki_cases_a60 = new_cases_by_date(rki_raw_a60, rki_flag_column='NeuerFall', rki_count_columns='AnzahlFall').rename('A60-A79')\n",
        "rki_cases_a80 = new_cases_by_date(rki_raw_a80, rki_flag_column='NeuerFall', rki_count_columns='AnzahlFall').rename('A80+')\n",
        "\n",
        "rki_age_case = pd.concat([rki_cases_a00, rki_cases_a05, rki_cases_a15, rki_cases_a35, rki_cases_a60, rki_cases_a80], axis=1)\n",
        "\n",
        "#rki_age_case.rename(columns_dict, axis=1, inplace=True)\n",
        "#rki_age_case = rki_age_case.rename(index={0: 'A00-A04', 1: 'A05-A14',2: 'A15-A34',3: 'A35-A59',4: 'A60-A79',5: 'A80+'})\n",
        "rki_age_case.tail()\n",
        "\n",
        "#rki_age_case['03-05-2020':].plot.bar(stacked=True, colormap='Blues');\n"
      ],
      "execution_count": null,
      "outputs": []
    },
    {
      "cell_type": "code",
      "metadata": {
        "id": "X2vZjxFltWeD"
      },
      "source": [
        "rki = pd.concat([rki_cases, rki_death, rki_recovered], axis=1, sort=True)\n",
        "columns_dict = {'AnzahlFall': 'NewCases', 'AnzahlTodesfall': 'NewDeath', 'AnzahlGenesen': 'NewRecovered'}\n",
        "rki.rename(columns_dict, axis=1, inplace=True)\n",
        "rki.fillna(value=0., inplace=True)\n",
        "rki.tail()"
      ],
      "execution_count": null,
      "outputs": []
    },
    {
      "cell_type": "code",
      "metadata": {
        "id": "dLRi8TrUtWeG"
      },
      "source": [
        "rki['Cases'] = rki['NewCases'].cumsum()\n",
        "rki['Death'] = rki['NewDeath'].cumsum()\n",
        "rki['Recovered'] = rki['NewRecovered'].cumsum()\n",
        "rki['ActiveCases'] = rki['Cases'] - rki['Recovered']\n",
        "rki['Growth'] = rki['NewCases'] / rki['ActiveCases']\n",
        "rki.tail(10)"
      ],
      "execution_count": null,
      "outputs": []
    },
    {
      "cell_type": "code",
      "metadata": {
        "id": "sT5hDDaxtWeI"
      },
      "source": [
        "rki.NewCases['03-05-2020':].plot.bar(stacked=True)"
      ],
      "execution_count": null,
      "outputs": []
    },
    {
      "cell_type": "code",
      "metadata": {
        "id": "TEehBPuAtWeL"
      },
      "source": [
        "rki.Cases['03-01-2020':].plot.bar()"
      ],
      "execution_count": null,
      "outputs": []
    },
    {
      "cell_type": "code",
      "metadata": {
        "id": "7Jt2cfhItWeO"
      },
      "source": [
        "rki.Recovered['03-01-2020':].plot.bar()"
      ],
      "execution_count": null,
      "outputs": []
    },
    {
      "cell_type": "code",
      "metadata": {
        "id": "P6HuK60MtWeS"
      },
      "source": [
        "rki.ActiveCases['03-01-2020':].plot.bar()"
      ],
      "execution_count": null,
      "outputs": []
    },
    {
      "cell_type": "code",
      "metadata": {
        "id": "QvxeLrtwtWeU"
      },
      "source": [
        "rki.Death['03-01-2020':].plot.bar()"
      ],
      "execution_count": null,
      "outputs": []
    },
    {
      "cell_type": "code",
      "metadata": {
        "id": "0v6LPVmltWeW"
      },
      "source": [
        "rki.NewDeath['03-01-2020':].plot.bar()"
      ],
      "execution_count": null,
      "outputs": []
    },
    {
      "cell_type": "code",
      "metadata": {
        "id": "t0Al-yUAtWeY"
      },
      "source": [
        "start_date = '03-05-2020'\n",
        "x = rki[start_date:].index\n",
        "\n",
        "plt.bar(x, rki.Growth[start_date:], label='Growth')\n",
        "plt.plot(x, rki.Growth.ewm(span=6,adjust=False).mean()[start_date:], label='Exponential Moving Average', color='red')\n",
        "plt.legend(loc='best')\n",
        "plt.title('Growth Germany')"
      ],
      "execution_count": null,
      "outputs": []
    },
    {
      "cell_type": "code",
      "metadata": {
        "id": "Xr1XDsm4tWeb"
      },
      "source": [
        "rki.Growth['03-21-2020':].plot.bar()"
      ],
      "execution_count": null,
      "outputs": []
    },
    {
      "cell_type": "code",
      "metadata": {
        "id": "cVVAtHb7tWed"
      },
      "source": [
        "start_date = '03-01-2020'\n",
        "x = rki[start_date:].index\n",
        "\n",
        "plt.bar(x, rki.NewCases[start_date:], label='New Cases')\n",
        "plt.plot(x, rki.NewCases.ewm(span=3,adjust=False).mean()[start_date:], label='Exponential Moving Average', color='red')\n",
        "plt.legend(loc='best')\n",
        "plt.title('New Cases Germany')"
      ],
      "execution_count": null,
      "outputs": []
    },
    {
      "cell_type": "code",
      "metadata": {
        "id": "-2_88skZtWef"
      },
      "source": [
        "rki.tail(20)"
      ],
      "execution_count": null,
      "outputs": []
    },
    {
      "cell_type": "code",
      "metadata": {
        "id": "Cy1cf1gFtWeh"
      },
      "source": [
        ""
      ],
      "execution_count": null,
      "outputs": []
    }
  ]
}